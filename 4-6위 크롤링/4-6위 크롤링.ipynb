{
 "cells": [
  {
   "cell_type": "code",
   "execution_count": 6,
   "id": "34fd1086",
   "metadata": {
    "collapsed": true
   },
   "outputs": [
    {
     "name": "stdout",
     "output_type": "stream",
     "text": [
      "Requirement already satisfied: tqdm in c:\\users\\noeul\\appdata\\local\\programs\\python\\python310\\lib\\site-packages (4.64.0)\n",
      "Requirement already satisfied: colorama in c:\\users\\noeul\\appdata\\local\\programs\\python\\python310\\lib\\site-packages (from tqdm) (0.4.5)\n",
      "Note: you may need to restart the kernel to use updated packages.\n"
     ]
    }
   ],
   "source": [
    "pip install tqdm"
   ]
  },
  {
   "cell_type": "code",
   "execution_count": 7,
   "id": "34733dde",
   "metadata": {
    "collapsed": true
   },
   "outputs": [
    {
     "name": "stdout",
     "output_type": "stream",
     "text": [
      "Collecting selenium\n",
      "  Downloading selenium-4.3.0-py3-none-any.whl (981 kB)\n",
      "     -------------------------------------- 981.4/981.4 kB 3.7 MB/s eta 0:00:00\n",
      "Collecting urllib3[secure,socks]~=1.26\n",
      "  Downloading urllib3-1.26.11-py2.py3-none-any.whl (139 kB)\n",
      "     -------------------------------------- 139.9/139.9 kB 2.1 MB/s eta 0:00:00\n",
      "Collecting trio-websocket~=0.9\n",
      "  Downloading trio_websocket-0.9.2-py3-none-any.whl (16 kB)\n",
      "Collecting trio~=0.17\n",
      "  Downloading trio-0.21.0-py3-none-any.whl (358 kB)\n",
      "     -------------------------------------- 359.0/359.0 kB 2.2 MB/s eta 0:00:00\n",
      "Requirement already satisfied: cffi>=1.14 in c:\\users\\noeul\\appdata\\local\\programs\\python\\python310\\lib\\site-packages (from trio~=0.17->selenium) (1.15.1)\n",
      "Requirement already satisfied: attrs>=19.2.0 in c:\\users\\noeul\\appdata\\local\\programs\\python\\python310\\lib\\site-packages (from trio~=0.17->selenium) (22.1.0)\n",
      "Collecting idna\n",
      "  Downloading idna-3.3-py3-none-any.whl (61 kB)\n",
      "     -------------------------------------- 61.2/61.2 kB 541.7 kB/s eta 0:00:00\n",
      "Collecting async-generator>=1.9\n",
      "  Downloading async_generator-1.10-py3-none-any.whl (18 kB)\n",
      "Collecting outcome\n",
      "  Downloading outcome-1.2.0-py2.py3-none-any.whl (9.7 kB)\n",
      "Collecting sniffio\n",
      "  Downloading sniffio-1.2.0-py3-none-any.whl (10 kB)\n",
      "Collecting sortedcontainers\n",
      "  Downloading sortedcontainers-2.4.0-py2.py3-none-any.whl (29 kB)\n",
      "Collecting wsproto>=0.14\n",
      "  Downloading wsproto-1.1.0-py3-none-any.whl (24 kB)\n",
      "Collecting pyOpenSSL>=0.14\n",
      "  Downloading pyOpenSSL-22.0.0-py2.py3-none-any.whl (55 kB)\n",
      "     -------------------------------------- 55.8/55.8 kB 364.7 kB/s eta 0:00:00\n",
      "Collecting certifi\n",
      "  Downloading certifi-2022.6.15-py3-none-any.whl (160 kB)\n",
      "     -------------------------------------- 160.2/160.2 kB 1.2 MB/s eta 0:00:00\n",
      "Collecting cryptography>=1.3.4\n",
      "  Downloading cryptography-37.0.4-cp36-abi3-win_amd64.whl (2.4 MB)\n",
      "     ---------------------------------------- 2.4/2.4 MB 4.8 MB/s eta 0:00:00\n",
      "Collecting PySocks!=1.5.7,<2.0,>=1.5.6\n",
      "  Downloading PySocks-1.7.1-py3-none-any.whl (16 kB)\n",
      "Requirement already satisfied: pycparser in c:\\users\\noeul\\appdata\\local\\programs\\python\\python310\\lib\\site-packages (from cffi>=1.14->trio~=0.17->selenium) (2.21)\n",
      "Collecting h11<1,>=0.9.0\n",
      "  Downloading h11-0.13.0-py3-none-any.whl (58 kB)\n",
      "     -------------------------------------- 58.2/58.2 kB 515.2 kB/s eta 0:00:00\n",
      "Installing collected packages: sortedcontainers, urllib3, sniffio, PySocks, outcome, idna, h11, certifi, async-generator, wsproto, trio, cryptography, trio-websocket, pyOpenSSL, selenium\n",
      "Successfully installed PySocks-1.7.1 async-generator-1.10 certifi-2022.6.15 cryptography-37.0.4 h11-0.13.0 idna-3.3 outcome-1.2.0 pyOpenSSL-22.0.0 selenium-4.3.0 sniffio-1.2.0 sortedcontainers-2.4.0 trio-0.21.0 trio-websocket-0.9.2 urllib3-1.26.11 wsproto-1.1.0\n",
      "Note: you may need to restart the kernel to use updated packages.\n"
     ]
    }
   ],
   "source": [
    "pip install selenium"
   ]
  },
  {
   "cell_type": "code",
   "execution_count": 10,
   "id": "040da35e",
   "metadata": {
    "collapsed": true
   },
   "outputs": [
    {
     "name": "stdout",
     "output_type": "stream",
     "text": [
      "Collecting requests\n",
      "  Downloading requests-2.28.1-py3-none-any.whl (62 kB)\n",
      "     -------------------------------------- 62.8/62.8 kB 146.1 kB/s eta 0:00:00\n",
      "Requirement already satisfied: idna<4,>=2.5 in c:\\users\\noeul\\appdata\\local\\programs\\python\\python310\\lib\\site-packages (from requests) (3.3)\n",
      "Collecting charset-normalizer<3,>=2\n",
      "  Downloading charset_normalizer-2.1.0-py3-none-any.whl (39 kB)\n",
      "Requirement already satisfied: urllib3<1.27,>=1.21.1 in c:\\users\\noeul\\appdata\\local\\programs\\python\\python310\\lib\\site-packages (from requests) (1.26.11)\n",
      "Requirement already satisfied: certifi>=2017.4.17 in c:\\users\\noeul\\appdata\\local\\programs\\python\\python310\\lib\\site-packages (from requests) (2022.6.15)\n",
      "Installing collected packages: charset-normalizer, requests\n",
      "Successfully installed charset-normalizer-2.1.0 requests-2.28.1\n",
      "Note: you may need to restart the kernel to use updated packages.\n"
     ]
    }
   ],
   "source": [
    "pip install requests"
   ]
  },
  {
   "cell_type": "code",
   "execution_count": 12,
   "id": "efca566e",
   "metadata": {
    "collapsed": true
   },
   "outputs": [
    {
     "name": "stdout",
     "output_type": "stream",
     "text": [
      "Collecting pandasNote: you may need to restart the kernel to use updated packages.\n",
      "\n",
      "  Downloading pandas-1.4.3-cp310-cp310-win_amd64.whl (10.5 MB)\n",
      "     ---------------------------------------- 10.5/10.5 MB 1.6 MB/s eta 0:00:00\n",
      "Requirement already satisfied: python-dateutil>=2.8.1 in c:\\users\\noeul\\appdata\\local\\programs\\python\\python310\\lib\\site-packages (from pandas) (2.8.2)\n",
      "Collecting numpy>=1.21.0\n",
      "  Downloading numpy-1.23.1-cp310-cp310-win_amd64.whl (14.6 MB)\n",
      "     ---------------------------------------- 14.6/14.6 MB 3.8 MB/s eta 0:00:00\n",
      "Collecting pytz>=2020.1\n",
      "  Downloading pytz-2022.1-py2.py3-none-any.whl (503 kB)\n",
      "     -------------------------------------- 503.5/503.5 kB 3.1 MB/s eta 0:00:00\n",
      "Requirement already satisfied: six>=1.5 in c:\\users\\noeul\\appdata\\local\\programs\\python\\python310\\lib\\site-packages (from python-dateutil>=2.8.1->pandas) (1.16.0)\n",
      "Installing collected packages: pytz, numpy, pandas\n",
      "Successfully installed numpy-1.23.1 pandas-1.4.3 pytz-2022.1\n"
     ]
    }
   ],
   "source": [
    "pip install pandas"
   ]
  },
  {
   "cell_type": "code",
   "execution_count": 61,
   "id": "7354bfcf",
   "metadata": {},
   "outputs": [],
   "source": [
    "from tqdm import tqdm\n",
    "from selenium import webdriver \n",
    "from time import sleep\n",
    "import requests\n",
    "import json\n",
    "import pandas as pd\n",
    "from selenium.webdriver.common.by import By\n",
    "from selenium.webdriver.support import expected_conditions as EC\n",
    "from selenium.webdriver.support.ui import WebDriverWait as wait\n",
    "\n",
    "   \n",
    "def google_reviews(store_list,gu,count=10):\n",
    "\n",
    "    #드라이버 실행\n",
    "    options = webdriver.ChromeOptions()\n",
    "    options.add_argument(\"user-agent=Mozilla/5.0 (Macintosh; Intel Mac OS X 10_12_6) AppleWebKit/537.36 (KHTML, like Gecko) Chrome/61.0.3163.100 Safari/537.36\")\n",
    "    driver = webdriver.Chrome('C:/Users/Noeul/chromedriver',options=options)   #chromedriver 경로 지정!\n",
    "    driver.get('https://www.google.co.kr/maps')\n",
    "    sleep(3)\n",
    "\n",
    "    # 리스트 형식으로 저장된 가게 하나씩 검색\n",
    "    for store in store_list:\n",
    "        count=count\n",
    "        driver.get('https://www.google.co.kr/maps')\n",
    "        result_list=[]\n",
    "        sleep(3)\n",
    "        query_input=driver.find_element(By.CLASS_NAME,'tactile-searchbox-input')\n",
    "        query_input.send_keys(gu+store+'\\n')\n",
    "        \n",
    "        # 의도한 가게와 검색결과가 같은지 확인\n",
    "        sleep(5)\n",
    "        check=input('일치하는 가게를 클릭 후 y를 눌러주세요(이외 멈춤)')\n",
    "        if check.upper()=='Y':\n",
    "            now_url=driver.current_url\n",
    "        else:\n",
    "            break\n",
    "        \n",
    "        # 리뷰 더보기로 이동\n",
    "        more_btn=driver.find_element(By.XPATH,'//*[@id=\"pane\"]/div/div[1]/div/div/div[2]/div[1]/div[1]/div[2]/div/div[1]/span[1]/span/span/span[2]/span[1]/button')\n",
    "        more_btn.click()\n",
    "        views=int(''.join(more_btn.text[2:-1].split(',')))//10\n",
    "        \n",
    "        # div태그 스크롤 \n",
    "        sleep(8)\n",
    "        js_scripts = '''\n",
    "        let aa = document.getElementsByClassName('section-scrollbox')[0];\n",
    "        setTimeout(()=>{aa.scroll(0,1000000)}, 1000);\n",
    "        '''\n",
    "        driver.execute_script(js_scripts)\n",
    "        sleep(3) \n",
    "        \n",
    "        # 헤더값 찾기\n",
    "        for request in driver.requests:\n",
    "            if request.response:\n",
    "                pb=request.url.split('pb=')\n",
    "                if len(pb)==2:\n",
    "                    if pb[1][:6]=='!1m2!1':\n",
    "                        url_l=request.url.split('!2m2!1i')\n",
    "                        break\n",
    "                        \n",
    "        # json파일 들고와 리뷰 10개씩 저장하기\n",
    "        # 리뷰의 수가 count보다 작을 경우 count를 리뷰의 수로 변경\n",
    "        if count>views:\n",
    "            for number in tqdm(range(views)):\n",
    "                resp=requests.get((url_l[0]+'!2m2!1i'+'{}'+url_l[1]).format(number))\n",
    "                review = json.loads(resp.text[5:])\n",
    "                for user in range(10):\n",
    "                    result_list.append({\n",
    "                        'ID':review[2][user][0][1],\n",
    "                        '내용':review[2][user][3],\n",
    "                        '날짜':review[2][user][1],\n",
    "                        '별점':review[2][user][4]})\n",
    "        else:\n",
    "            for number in tqdm(range(count)):\n",
    "                resp=requests.get((url_l[0]+'!2m2!1i'+'{}'+url_l[1]).format(number))\n",
    "                review = json.loads(resp.text[5:])\n",
    "                for user in range(10):\n",
    "                    result_list.append({\n",
    "                        'ID':review[2][user][0][1],\n",
    "                        '내용':review[2][user][3],\n",
    "                        '날짜':review[2][user][1],\n",
    "                        '별점':review[2][user][4]})\n",
    "                    \n",
    "        # csv로 저장\n",
    "        df=pd.DataFrame(result_list)\n",
    "        df.to_csv('{}.csv'.format(store))"
   ]
  },
  {
   "cell_type": "code",
   "execution_count": 62,
   "id": "1317356f",
   "metadata": {
    "scrolled": true
   },
   "outputs": [
    {
     "name": "stderr",
     "output_type": "stream",
     "text": [
      "C:\\Users\\Noeul\\AppData\\Local\\Temp\\ipykernel_7716\\985167571.py:17: DeprecationWarning: executable_path has been deprecated, please pass in a Service object\n",
      "  driver = webdriver.Chrome('C:/Users/Noeul/chromedriver',options=options)   #chromedriver 경로 지정!\n"
     ]
    },
    {
     "name": "stdout",
     "output_type": "stream",
     "text": [
      "일치하는 가게를 클릭 후 y를 눌러주세요(이외 멈춤)y\n"
     ]
    },
    {
     "ename": "NoSuchElementException",
     "evalue": "Message: no such element: Unable to locate element: {\"method\":\"xpath\",\"selector\":\"//*[@id=\"pane\"]/div/div[1]/div/div/div[2]/div[1]/div[1]/div[2]/div/div[1]/span[1]/span/span/span[2]/span[1]/button\"}\n  (Session info: chrome=103.0.5060.134)\nStacktrace:\nBacktrace:\n\tOrdinal0 [0x012F5FD3+2187219]\n\tOrdinal0 [0x0128E6D1+1763025]\n\tOrdinal0 [0x011A3E78+802424]\n\tOrdinal0 [0x011D1C10+990224]\n\tOrdinal0 [0x011D1EAB+990891]\n\tOrdinal0 [0x011FEC92+1174674]\n\tOrdinal0 [0x011ECBD4+1100756]\n\tOrdinal0 [0x011FCFC2+1167298]\n\tOrdinal0 [0x011EC9A6+1100198]\n\tOrdinal0 [0x011C6F80+946048]\n\tOrdinal0 [0x011C7E76+949878]\n\tGetHandleVerifier [0x015990C2+2721218]\n\tGetHandleVerifier [0x0158AAF0+2662384]\n\tGetHandleVerifier [0x0138137A+526458]\n\tGetHandleVerifier [0x01380416+522518]\n\tOrdinal0 [0x01294EAB+1789611]\n\tOrdinal0 [0x012997A8+1808296]\n\tOrdinal0 [0x01299895+1808533]\n\tOrdinal0 [0x012A26C1+1844929]\n\tBaseThreadInitThunk [0x754D6A14+36]\n\tRtlInitializeExceptionChain [0x77ABA9FF+143]\n\tRtlInitializeExceptionChain [0x77ABA9CA+90]\n",
     "output_type": "error",
     "traceback": [
      "\u001b[1;31m---------------------------------------------------------------------------\u001b[0m",
      "\u001b[1;31mNoSuchElementException\u001b[0m                    Traceback (most recent call last)",
      "Input \u001b[1;32mIn [62]\u001b[0m, in \u001b[0;36m<cell line: 4>\u001b[1;34m()\u001b[0m\n\u001b[0;32m      1\u001b[0m \u001b[38;5;66;03m# 사용하기\u001b[39;00m\n\u001b[0;32m      2\u001b[0m store_list\u001b[38;5;241m=\u001b[39m[\u001b[38;5;124m'\u001b[39m\u001b[38;5;124mGyeongbokgung Palace\u001b[39m\u001b[38;5;124m'\u001b[39m, \u001b[38;5;124m'\u001b[39m\u001b[38;5;124mGwangjang Market, Seoul\u001b[39m\u001b[38;5;124m'\u001b[39m, \u001b[38;5;124m'\u001b[39m\u001b[38;5;124mDDP 동대문디자인플라자\u001b[39m\u001b[38;5;124m'\u001b[39m] \u001b[38;5;66;03m# 가게명 저장\u001b[39;00m\n\u001b[1;32m----> 4\u001b[0m \u001b[43mgoogle_reviews\u001b[49m\u001b[43m(\u001b[49m\u001b[43mstore_list\u001b[49m\u001b[43m,\u001b[49m\u001b[38;5;124;43m'\u001b[39;49m\u001b[38;5;124;43m종로\u001b[39;49m\u001b[38;5;124;43m'\u001b[39;49m\u001b[43m,\u001b[49m\u001b[38;5;241;43m25\u001b[39;49m\u001b[43m)\u001b[49m\n",
      "Input \u001b[1;32mIn [61]\u001b[0m, in \u001b[0;36mgoogle_reviews\u001b[1;34m(store_list, gu, count)\u001b[0m\n\u001b[0;32m     36\u001b[0m     \u001b[38;5;28;01mbreak\u001b[39;00m\n\u001b[0;32m     38\u001b[0m \u001b[38;5;66;03m# 리뷰 더보기로 이동\u001b[39;00m\n\u001b[1;32m---> 39\u001b[0m more_btn\u001b[38;5;241m=\u001b[39m\u001b[43mdriver\u001b[49m\u001b[38;5;241;43m.\u001b[39;49m\u001b[43mfind_element\u001b[49m\u001b[43m(\u001b[49m\u001b[43mBy\u001b[49m\u001b[38;5;241;43m.\u001b[39;49m\u001b[43mXPATH\u001b[49m\u001b[43m,\u001b[49m\u001b[38;5;124;43m'\u001b[39;49m\u001b[38;5;124;43m//*[@id=\u001b[39;49m\u001b[38;5;124;43m\"\u001b[39;49m\u001b[38;5;124;43mpane\u001b[39;49m\u001b[38;5;124;43m\"\u001b[39;49m\u001b[38;5;124;43m]/div/div[1]/div/div/div[2]/div[1]/div[1]/div[2]/div/div[1]/span[1]/span/span/span[2]/span[1]/button\u001b[39;49m\u001b[38;5;124;43m'\u001b[39;49m\u001b[43m)\u001b[49m\n\u001b[0;32m     40\u001b[0m more_btn\u001b[38;5;241m.\u001b[39mclick()\n\u001b[0;32m     41\u001b[0m views\u001b[38;5;241m=\u001b[39m\u001b[38;5;28mint\u001b[39m(\u001b[38;5;124m'\u001b[39m\u001b[38;5;124m'\u001b[39m\u001b[38;5;241m.\u001b[39mjoin(more_btn\u001b[38;5;241m.\u001b[39mtext[\u001b[38;5;241m2\u001b[39m:\u001b[38;5;241m-\u001b[39m\u001b[38;5;241m1\u001b[39m]\u001b[38;5;241m.\u001b[39msplit(\u001b[38;5;124m'\u001b[39m\u001b[38;5;124m,\u001b[39m\u001b[38;5;124m'\u001b[39m)))\u001b[38;5;241m/\u001b[39m\u001b[38;5;241m/\u001b[39m\u001b[38;5;241m10\u001b[39m\n",
      "File \u001b[1;32m~\\AppData\\Local\\Programs\\Python\\Python310\\lib\\site-packages\\selenium\\webdriver\\remote\\webdriver.py:857\u001b[0m, in \u001b[0;36mWebDriver.find_element\u001b[1;34m(self, by, value)\u001b[0m\n\u001b[0;32m    854\u001b[0m     by \u001b[38;5;241m=\u001b[39m By\u001b[38;5;241m.\u001b[39mCSS_SELECTOR\n\u001b[0;32m    855\u001b[0m     value \u001b[38;5;241m=\u001b[39m \u001b[38;5;124m'\u001b[39m\u001b[38;5;124m[name=\u001b[39m\u001b[38;5;124m\"\u001b[39m\u001b[38;5;132;01m%s\u001b[39;00m\u001b[38;5;124m\"\u001b[39m\u001b[38;5;124m]\u001b[39m\u001b[38;5;124m'\u001b[39m \u001b[38;5;241m%\u001b[39m value\n\u001b[1;32m--> 857\u001b[0m \u001b[38;5;28;01mreturn\u001b[39;00m \u001b[38;5;28;43mself\u001b[39;49m\u001b[38;5;241;43m.\u001b[39;49m\u001b[43mexecute\u001b[49m\u001b[43m(\u001b[49m\u001b[43mCommand\u001b[49m\u001b[38;5;241;43m.\u001b[39;49m\u001b[43mFIND_ELEMENT\u001b[49m\u001b[43m,\u001b[49m\u001b[43m \u001b[49m\u001b[43m{\u001b[49m\n\u001b[0;32m    858\u001b[0m \u001b[43m    \u001b[49m\u001b[38;5;124;43m'\u001b[39;49m\u001b[38;5;124;43musing\u001b[39;49m\u001b[38;5;124;43m'\u001b[39;49m\u001b[43m:\u001b[49m\u001b[43m \u001b[49m\u001b[43mby\u001b[49m\u001b[43m,\u001b[49m\n\u001b[0;32m    859\u001b[0m \u001b[43m    \u001b[49m\u001b[38;5;124;43m'\u001b[39;49m\u001b[38;5;124;43mvalue\u001b[39;49m\u001b[38;5;124;43m'\u001b[39;49m\u001b[43m:\u001b[49m\u001b[43m \u001b[49m\u001b[43mvalue\u001b[49m\u001b[43m}\u001b[49m\u001b[43m)\u001b[49m[\u001b[38;5;124m'\u001b[39m\u001b[38;5;124mvalue\u001b[39m\u001b[38;5;124m'\u001b[39m]\n",
      "File \u001b[1;32m~\\AppData\\Local\\Programs\\Python\\Python310\\lib\\site-packages\\selenium\\webdriver\\remote\\webdriver.py:435\u001b[0m, in \u001b[0;36mWebDriver.execute\u001b[1;34m(self, driver_command, params)\u001b[0m\n\u001b[0;32m    433\u001b[0m response \u001b[38;5;241m=\u001b[39m \u001b[38;5;28mself\u001b[39m\u001b[38;5;241m.\u001b[39mcommand_executor\u001b[38;5;241m.\u001b[39mexecute(driver_command, params)\n\u001b[0;32m    434\u001b[0m \u001b[38;5;28;01mif\u001b[39;00m response:\n\u001b[1;32m--> 435\u001b[0m     \u001b[38;5;28;43mself\u001b[39;49m\u001b[38;5;241;43m.\u001b[39;49m\u001b[43merror_handler\u001b[49m\u001b[38;5;241;43m.\u001b[39;49m\u001b[43mcheck_response\u001b[49m\u001b[43m(\u001b[49m\u001b[43mresponse\u001b[49m\u001b[43m)\u001b[49m\n\u001b[0;32m    436\u001b[0m     response[\u001b[38;5;124m'\u001b[39m\u001b[38;5;124mvalue\u001b[39m\u001b[38;5;124m'\u001b[39m] \u001b[38;5;241m=\u001b[39m \u001b[38;5;28mself\u001b[39m\u001b[38;5;241m.\u001b[39m_unwrap_value(\n\u001b[0;32m    437\u001b[0m         response\u001b[38;5;241m.\u001b[39mget(\u001b[38;5;124m'\u001b[39m\u001b[38;5;124mvalue\u001b[39m\u001b[38;5;124m'\u001b[39m, \u001b[38;5;28;01mNone\u001b[39;00m))\n\u001b[0;32m    438\u001b[0m     \u001b[38;5;28;01mreturn\u001b[39;00m response\n",
      "File \u001b[1;32m~\\AppData\\Local\\Programs\\Python\\Python310\\lib\\site-packages\\selenium\\webdriver\\remote\\errorhandler.py:247\u001b[0m, in \u001b[0;36mErrorHandler.check_response\u001b[1;34m(self, response)\u001b[0m\n\u001b[0;32m    245\u001b[0m         alert_text \u001b[38;5;241m=\u001b[39m value[\u001b[38;5;124m'\u001b[39m\u001b[38;5;124malert\u001b[39m\u001b[38;5;124m'\u001b[39m]\u001b[38;5;241m.\u001b[39mget(\u001b[38;5;124m'\u001b[39m\u001b[38;5;124mtext\u001b[39m\u001b[38;5;124m'\u001b[39m)\n\u001b[0;32m    246\u001b[0m     \u001b[38;5;28;01mraise\u001b[39;00m exception_class(message, screen, stacktrace, alert_text)  \u001b[38;5;66;03m# type: ignore[call-arg]  # mypy is not smart enough here\u001b[39;00m\n\u001b[1;32m--> 247\u001b[0m \u001b[38;5;28;01mraise\u001b[39;00m exception_class(message, screen, stacktrace)\n",
      "\u001b[1;31mNoSuchElementException\u001b[0m: Message: no such element: Unable to locate element: {\"method\":\"xpath\",\"selector\":\"//*[@id=\"pane\"]/div/div[1]/div/div/div[2]/div[1]/div[1]/div[2]/div/div[1]/span[1]/span/span/span[2]/span[1]/button\"}\n  (Session info: chrome=103.0.5060.134)\nStacktrace:\nBacktrace:\n\tOrdinal0 [0x012F5FD3+2187219]\n\tOrdinal0 [0x0128E6D1+1763025]\n\tOrdinal0 [0x011A3E78+802424]\n\tOrdinal0 [0x011D1C10+990224]\n\tOrdinal0 [0x011D1EAB+990891]\n\tOrdinal0 [0x011FEC92+1174674]\n\tOrdinal0 [0x011ECBD4+1100756]\n\tOrdinal0 [0x011FCFC2+1167298]\n\tOrdinal0 [0x011EC9A6+1100198]\n\tOrdinal0 [0x011C6F80+946048]\n\tOrdinal0 [0x011C7E76+949878]\n\tGetHandleVerifier [0x015990C2+2721218]\n\tGetHandleVerifier [0x0158AAF0+2662384]\n\tGetHandleVerifier [0x0138137A+526458]\n\tGetHandleVerifier [0x01380416+522518]\n\tOrdinal0 [0x01294EAB+1789611]\n\tOrdinal0 [0x012997A8+1808296]\n\tOrdinal0 [0x01299895+1808533]\n\tOrdinal0 [0x012A26C1+1844929]\n\tBaseThreadInitThunk [0x754D6A14+36]\n\tRtlInitializeExceptionChain [0x77ABA9FF+143]\n\tRtlInitializeExceptionChain [0x77ABA9CA+90]\n"
     ]
    }
   ],
   "source": [
    "# 사용하기\n",
    "store_list=['Gyeongbokgung Palace', 'Gwangjang Market, Seoul', 'DDP 동대문디자인플라자'] # 가게명 저장\n",
    "\n",
    "google_reviews(store_list,'종로',25) #함수 실행"
   ]
  },
  {
   "cell_type": "code",
   "execution_count": null,
   "id": "4dfef6fe",
   "metadata": {},
   "outputs": [],
   "source": []
  },
  {
   "cell_type": "code",
   "execution_count": null,
   "id": "fac6c1ba",
   "metadata": {},
   "outputs": [],
   "source": []
  }
 ],
 "metadata": {
  "kernelspec": {
   "display_name": "Python 3 (ipykernel)",
   "language": "python",
   "name": "python3"
  },
  "language_info": {
   "codemirror_mode": {
    "name": "ipython",
    "version": 3
   },
   "file_extension": ".py",
   "mimetype": "text/x-python",
   "name": "python",
   "nbconvert_exporter": "python",
   "pygments_lexer": "ipython3",
   "version": "3.10.6"
  }
 },
 "nbformat": 4,
 "nbformat_minor": 5
}
